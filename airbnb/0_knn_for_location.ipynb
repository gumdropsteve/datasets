{
 "cells": [
  {
   "cell_type": "code",
   "execution_count": 1,
   "id": "641ab1d8",
   "metadata": {},
   "outputs": [
    {
     "name": "stdout",
     "output_type": "stream",
     "text": [
      "Python 3.9.5\r\n"
     ]
    }
   ],
   "source": [
    "!python -V"
   ]
  },
  {
   "cell_type": "markdown",
   "id": "4f70f196",
   "metadata": {},
   "source": [
    "# Predicting AirBnb Search Location Based on Traits\n",
    "A very basic example of how to prepare and use the AirBnb dataset from [gumdropsteve/datasets](https://github.com/gumdropsteve/datasets)."
   ]
  },
  {
   "cell_type": "code",
   "execution_count": null,
   "id": "9e115fc5",
   "metadata": {},
   "outputs": [],
   "source": [
    "import os\n",
    "\n",
    "import pandas as pd\n",
    "\n",
    "from sklearn.neighbors import KNeighborsClassifier\n",
    "from sklearn.model_selection import train_test_split"
   ]
  },
  {
   "cell_type": "code",
   "execution_count": 2,
   "id": "81b99c12",
   "metadata": {},
   "outputs": [
    {
     "data": {
      "text/plain": [
       "Index(['url', 'title', 'type', 'location', 'guests', 'bedrooms', 'beds',\n",
       "       'is_studio', 'baths', 'half_baths', 'shared_baths', 'price',\n",
       "       'avg_rating', 'n_reviews', 'gym_bool', 'wifi_bool',\n",
       "       'self_check_in_bool', 'air_conditioning_bool', 'pets_allowed_bool',\n",
       "       'indoor_fireplace_bool', 'hot_tub_bool', 'free_parking_bool',\n",
       "       'pool_bool', 'kitchen_bool', 'breakfast_bool', 'elevator_bool',\n",
       "       'washer_bool', 'dryer_bool', 'heating_bool', 'waterfront_bool',\n",
       "       'dishwasher_bool', 'beachfront_bool', 'ski_in_ski_out_bool', 'ds',\n",
       "       'search_filter', 'terrace_bool', 'sonos_sound_system_bool',\n",
       "       'bbq_grill_bool', 'hair_dryer_bool', 'chefs_kitchen_bool',\n",
       "       'wet_bar_bool', 'sun_loungers_bool', 'home_theater_bool',\n",
       "       'housekeeping_bool', 'gated_property_bool', 'gas_fireplace_bool',\n",
       "       'plunge_pool_bool', 'infinity_pool_bool', 'sun_deck_bool',\n",
       "       'game_room_bool', 'surround_sound_system_bool', 'resort_access_bool',\n",
       "       'search_location'],\n",
       "      dtype='object')"
      ]
     },
     "execution_count": 2,
     "metadata": {},
     "output_type": "execute_result"
    }
   ],
   "source": [
    "df = pd.read_parquet('https://github.com/gumdropsteve/datasets/raw/master/airbnb/las_vegas.parquet')\n",
    "\n",
    "df['search_location'] = ' '.join([_.capitalize() for _ in 'las_vegas'.split('_')])\n",
    "\n",
    "df.columns"
   ]
  },
  {
   "cell_type": "code",
   "execution_count": 3,
   "id": "06b3721e",
   "metadata": {},
   "outputs": [
    {
     "data": {
      "text/plain": [
       "(83204, 81759, 2152)"
      ]
     },
     "execution_count": 3,
     "metadata": {},
     "output_type": "execute_result"
    }
   ],
   "source": [
    "len(df), len(df.drop_duplicates()), len(df.drop_duplicates(subset='url'))"
   ]
  },
  {
   "cell_type": "code",
   "execution_count": 4,
   "id": "6ce204d0",
   "metadata": {
    "scrolled": false
   },
   "outputs": [
    {
     "name": "stdout",
     "output_type": "stream",
     "text": [
      "Murcia\n",
      "Florida Keys\n",
      "Canary Wharf\n",
      "Miami\n",
      "Saudi Arabia\n",
      "North Pole\n",
      "Can Tho\n",
      "Tbilisi\n",
      "Paradise\n",
      "Houston\n",
      "Riyadh\n",
      "Bella Vista\n",
      "Seattle\n",
      "Florida\n",
      "Dammam\n",
      "Henderson\n",
      "Alaska\n",
      "Louisiana\n",
      "New Orleans\n",
      "United Kingdom\n",
      "Budapest\n",
      "Georgia Country\n",
      "Seoul\n",
      "Tokyo\n",
      "Texas\n",
      "Coeur Dalene\n",
      "Melbourne\n",
      "St Thomas\n",
      "Ho Chi Minh\n",
      "Japan\n",
      "Pennsylvania\n",
      "California\n",
      "Sydney\n",
      "Baton Rouge\n",
      "Virgin Islands\n",
      "San Francisco\n",
      "Little Rock\n",
      "Honolulu\n",
      "Anchorage\n",
      "Australia\n",
      "Jeddah\n",
      "Arkansas\n",
      "Boise\n",
      "Vietnam\n",
      "Barcelona\n",
      "Bentonville\n",
      "Pho Quoc Island\n",
      "Hungary\n",
      "United States\n",
      "Dallas\n",
      "Austin\n",
      "Palma\n",
      "San Diego\n",
      "Shreveport\n",
      "City Of London\n",
      "Camden Town\n",
      "London\n",
      "Oakland\n",
      "Idaho\n",
      "Nevada\n",
      "Reno\n",
      "Philadelphia\n"
     ]
    }
   ],
   "source": [
    "location_files = [_ for _ in os.listdir() if '.parquet' in _ and 'las_vegas' not in _]\n",
    "\n",
    "for file in location_files:\n",
    "    \n",
    "    print(' '.join([_.capitalize() for _ in file.replace('.parquet', '').split('_')]))\n",
    "    \n",
    "    new_location = pd.read_parquet(file)\n",
    "    new_location['search_location'] = ' '.join([_.capitalize() for _ in file.replace('.parquet', '').split('_')])\n",
    "\n",
    "    df = pd.concat([df, new_location])\n",
    "\n",
    "# len(df)"
   ]
  },
  {
   "cell_type": "code",
   "execution_count": 5,
   "id": "63a02a32",
   "metadata": {},
   "outputs": [
    {
     "data": {
      "text/plain": [
       "3002446"
      ]
     },
     "execution_count": 5,
     "metadata": {},
     "output_type": "execute_result"
    }
   ],
   "source": [
    "len(df)"
   ]
  },
  {
   "cell_type": "code",
   "execution_count": 6,
   "id": "c03bcb93",
   "metadata": {},
   "outputs": [],
   "source": [
    "df = df.drop_duplicates(subset='url')"
   ]
  },
  {
   "cell_type": "code",
   "execution_count": 7,
   "id": "16e20eb5",
   "metadata": {},
   "outputs": [
    {
     "data": {
      "text/plain": [
       "(92747, 53)"
      ]
     },
     "execution_count": 7,
     "metadata": {},
     "output_type": "execute_result"
    }
   ],
   "source": [
    "len(df), len(df.columns)"
   ]
  },
  {
   "cell_type": "code",
   "execution_count": 8,
   "id": "983d1c02",
   "metadata": {},
   "outputs": [],
   "source": [
    "df = pd.concat([df, \n",
    "                pd.get_dummies(df['type']), \n",
    "                pd.get_dummies(df['location']),\n",
    "                pd.get_dummies(df['search_filter'])\n",
    "               ], axis=1)\n",
    "\n",
    "df = df.drop(['type', 'location', 'search_filter'], axis=1)\n",
    "\n",
    "df = df.drop(['url', 'title', 'ds'], axis=1)"
   ]
  },
  {
   "cell_type": "code",
   "execution_count": 9,
   "id": "1bd8a0e3",
   "metadata": {},
   "outputs": [
    {
     "data": {
      "text/plain": [
       "(92747, 13146)"
      ]
     },
     "execution_count": 9,
     "metadata": {},
     "output_type": "execute_result"
    }
   ],
   "source": [
    "len(df), len(df.columns)"
   ]
  },
  {
   "cell_type": "code",
   "execution_count": 10,
   "id": "452fc3e8",
   "metadata": {},
   "outputs": [],
   "source": [
    "df = df.fillna(False)"
   ]
  },
  {
   "cell_type": "code",
   "execution_count": 12,
   "id": "e9f81c8b",
   "metadata": {},
   "outputs": [],
   "source": [
    "x = df.drop(['search_location'], axis=1)\n",
    "y = df['search_location']"
   ]
  },
  {
   "cell_type": "code",
   "execution_count": 13,
   "id": "ff81985b",
   "metadata": {},
   "outputs": [],
   "source": [
    "x_train, x_test, y_train, y_test = train_test_split(x, y, random_state=0, test_size=0.2)"
   ]
  },
  {
   "cell_type": "code",
   "execution_count": 14,
   "id": "50a41ebd",
   "metadata": {},
   "outputs": [],
   "source": [
    "knn = KNeighborsClassifier(n_neighbors=5)"
   ]
  },
  {
   "cell_type": "code",
   "execution_count": 15,
   "id": "6a190002",
   "metadata": {},
   "outputs": [
    {
     "data": {
      "text/plain": [
       "KNeighborsClassifier()"
      ]
     },
     "execution_count": 15,
     "metadata": {},
     "output_type": "execute_result"
    }
   ],
   "source": [
    "knn.fit(x_train, y_train)"
   ]
  },
  {
   "cell_type": "code",
   "execution_count": 16,
   "id": "69a249c6",
   "metadata": {},
   "outputs": [
    {
     "data": {
      "text/plain": [
       "0.31859838274932617"
      ]
     },
     "execution_count": 16,
     "metadata": {},
     "output_type": "execute_result"
    }
   ],
   "source": [
    "knn.score(x_test, y_test)"
   ]
  }
 ],
 "metadata": {
  "kernelspec": {
   "display_name": "Python 3",
   "language": "python",
   "name": "python3"
  },
  "language_info": {
   "codemirror_mode": {
    "name": "ipython",
    "version": 3
   },
   "file_extension": ".py",
   "mimetype": "text/x-python",
   "name": "python",
   "nbconvert_exporter": "python",
   "pygments_lexer": "ipython3",
   "version": "3.9.5"
  }
 },
 "nbformat": 4,
 "nbformat_minor": 5
}
